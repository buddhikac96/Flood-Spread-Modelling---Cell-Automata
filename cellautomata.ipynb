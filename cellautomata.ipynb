{
 "cells": [
  {
   "cell_type": "code",
   "execution_count": null,
   "metadata": {
    "colab": {},
    "colab_type": "code",
    "id": "01ASZ9n0gUX1"
   },
   "outputs": [],
   "source": [
    "!pip install numpy\n",
    "!pip install matplotlib\n",
    "!pip install elevation\n",
    "!pip install richdem\n",
    "!pip install -U -q PyDrive\n",
    "!pip install rasterio"
   ]
  },
  {
   "cell_type": "code",
   "execution_count": null,
   "metadata": {
    "colab": {},
    "colab_type": "code",
    "id": "LPxcdkLdgbOa"
   },
   "outputs": [],
   "source": [
    "from pydrive.auth import GoogleAuth\n",
    "from pydrive.drive import GoogleDrive\n",
    "from google.colab import auth\n",
    "from oauth2client.client import GoogleCredentials"
   ]
  },
  {
   "cell_type": "code",
   "execution_count": null,
   "metadata": {
    "colab": {},
    "colab_type": "code",
    "id": "AVyyWoxhgeEH"
   },
   "outputs": [],
   "source": [
    "import os\n",
    "import numpy as np\n",
    "import matplotlib\n",
    "import matplotlib.pyplot as plt\n",
    "import elevation\n",
    "import richdem as rd\n",
    "import rasterio"
   ]
  },
  {
   "cell_type": "code",
   "execution_count": null,
   "metadata": {
    "colab": {},
    "colab_type": "code",
    "id": "ckF34xEwgiXA"
   },
   "outputs": [],
   "source": [
    "auth.authenticate_user()\n",
    "gauth = GoogleAuth()\n",
    "gauth.credentials = GoogleCredentials.get_application_default()\n",
    "drive = GoogleDrive(gauth)"
   ]
  },
  {
   "cell_type": "code",
   "execution_count": null,
   "metadata": {
    "colab": {},
    "colab_type": "code",
    "id": "3vFAl3_nhq5y"
   },
   "outputs": [],
   "source": [
    "matplotlib.rcParams['figure.figsize'] = (8, 5.5)"
   ]
  },
  {
   "cell_type": "code",
   "execution_count": null,
   "metadata": {
    "colab": {},
    "colab_type": "code",
    "id": "c3qnstAhh3_x"
   },
   "outputs": [],
   "source": [
    "#download tiff file from google drive\n",
    "downloaded = drive.CreateFile({'id':\"14nfAg677VSg-zmerx1wNdAgNvEvIa-gl\"})\n",
    "downloaded.GetContentFile('map.tiff')  "
   ]
  },
  {
   "cell_type": "code",
   "execution_count": null,
   "metadata": {
    "colab": {},
    "colab_type": "code",
    "id": "txAgScn8humC"
   },
   "outputs": [],
   "source": [
    "#dem_path = os.path.join(os.getcwd(), 'Shasta-30m-DEM.tif')\n",
    "dem_path = os.path.join(os.getcwd(), 'map.tif')"
   ]
  },
  {
   "cell_type": "code",
   "execution_count": null,
   "metadata": {
    "colab": {},
    "colab_type": "code",
    "id": "40b_4a-Lq_Tl"
   },
   "outputs": [],
   "source": [
    "elevation.clip(bounds=(6.70, 80.38, 7.59, 81.23), output=dem_path)"
   ]
  },
  {
   "cell_type": "code",
   "execution_count": null,
   "metadata": {
    "colab": {},
    "colab_type": "code",
    "id": "6yr4BJhPjvus"
   },
   "outputs": [],
   "source": [
    "matrix = rasterio.open(dem_path).read()[0]"
   ]
  },
  {
   "cell_type": "code",
   "execution_count": null,
   "metadata": {
    "colab": {
     "base_uri": "https://localhost:8080/",
     "height": 134
    },
    "colab_type": "code",
    "id": "eZiokVeLj39N",
    "outputId": "a24cc2a6-a186-4197-b09b-de50dcbe0aff",
    "scrolled": false
   },
   "outputs": [],
   "source": [
    "matrix"
   ]
  },
  {
   "cell_type": "code",
   "execution_count": 24,
   "metadata": {
    "colab": {},
    "colab_type": "code",
    "id": "FhUFSd_Tj0ol"
   },
   "outputs": [],
   "source": [
    "sampleSoil = [[2,5,6,6], [5,3,5,5], [6,5,2,5], [6,6,5,2]]\n",
    "\n",
    "sampleWater = [[6,0,0,0], [0,5,2,0], [0,0,6,0], [0,0,0,6]]\n",
    "\n",
    "soilInfiltraionMap = {\n",
    "    'default' : {\n",
    "        'f0' : 0.01,\n",
    "        'fc' : 0.02,\n",
    "        'k' : 0.03\n",
    "    },\n",
    "    \n",
    "    'waterarea' : {\n",
    "        'f0' : 0,\n",
    "        'f1' : 0,\n",
    "        'k' : 0\n",
    "    },\n",
    "    \n",
    "    'settlement' : {\n",
    "        'f0' : 4.06,\n",
    "        'fc' : 0.03,\n",
    "        'k' : 0.45\n",
    "    },\n",
    "    \n",
    "    'rocks' : {\n",
    "        'f0' : 0.03,\n",
    "        'fc' : 0.002,\n",
    "        'k' : 0.02\n",
    "    }\n",
    "}"
   ]
  },
  {
   "cell_type": "code",
   "execution_count": 11,
   "metadata": {
    "colab": {},
    "colab_type": "code",
    "id": "62dh6IhKA2uq"
   },
   "outputs": [],
   "source": [
    "class Cell:\n",
    "    \n",
    "    soilType = 'default'\n",
    "    \n",
    "    def __init__(self, i, j, soil, water):\n",
    "        self.i = i\n",
    "        self.j = j\n",
    "        self.soil = soil\n",
    "        self.water = water\n",
    "        "
   ]
  },
  {
   "cell_type": "code",
   "execution_count": 2,
   "metadata": {
    "colab": {},
    "colab_type": "code",
    "id": "bt75UwMQXsaJ"
   },
   "outputs": [],
   "source": [
    "#get a single 2d array of tuples of water level and soil level\n",
    "def getSoilLevelPlusWaterLevel(soil, water):\n",
    "  grid = []\n",
    "  for i in range(len(soil)):\n",
    "    row = []\n",
    "    for j in range(len(soil[i])):\n",
    "      #row.append((soilLevel[i][j], waterLevel[i][j])) 2d array of tupes\n",
    "      row.append(Cell(i, j, soil[i][j], water[i][j]))\n",
    "    grid.append(row)\n",
    "\n",
    "  return grid"
   ]
  },
  {
   "cell_type": "code",
   "execution_count": 3,
   "metadata": {
    "colab": {},
    "colab_type": "code",
    "id": "bnHfT9-zX8Go"
   },
   "outputs": [],
   "source": [
    "#get cells which has water\n",
    "def GetWaterCells(grid):\n",
    "  arr = []\n",
    "  n = len(grid)\n",
    "  for i in range(1, n - 1):\n",
    "    for j in range(1, n - 1):\n",
    "      if grid[i][j].water > 0:\n",
    "        arr.append(grid[i][j])\n",
    "  return arr"
   ]
  },
  {
   "cell_type": "code",
   "execution_count": 4,
   "metadata": {
    "colab": {},
    "colab_type": "code",
    "id": "30SDw0_nrXTW"
   },
   "outputs": [],
   "source": [
    "def SortWaterCellArray(array):\n",
    "  return sorted(array, key = lambda i: i.water)"
   ]
  },
  {
   "cell_type": "code",
   "execution_count": 5,
   "metadata": {
    "colab": {},
    "colab_type": "code",
    "id": "uiBEMakRCz2m"
   },
   "outputs": [],
   "source": [
    "def GetAverageHeight(cell, grid):\n",
    "  left = grid[cell.i][cell.j + 1].water + grid[cell.i][cell.j + 1].soil \n",
    "  top = grid[cell.i + 1][cell.j].water + grid[cell.i + 1][cell.j].soil \n",
    "  right = grid[cell.i][cell.j + 1].water + grid[cell.i][cell.j + 1].soil \n",
    "  bottom = grid[cell.i - 1][cell.j].water + grid[cell.i - 1][cell.j].soil \n",
    "  center = cell.soil + cell.water\n",
    "\n",
    "  return (left + top + right + bottom + center) / 5"
   ]
  },
  {
   "cell_type": "code",
   "execution_count": 6,
   "metadata": {
    "colab": {},
    "colab_type": "code",
    "id": "fHcrlkJCIimM"
   },
   "outputs": [],
   "source": [
    "def GetFlowWaterAmount(centerCellHeight, numberOfNeighbours):\n",
    "  return centerCellHeight / (numberOfNeighbours + 1)"
   ]
  },
  {
   "cell_type": "code",
   "execution_count": 7,
   "metadata": {
    "colab": {},
    "colab_type": "code",
    "id": "uscXb4TPNoDf"
   },
   "outputs": [],
   "source": [
    "def OverFlowWaterToNeighbour(grid, cell, waterFlowAmount):\n",
    "  #left\n",
    "  if(grid[cell.i][cell.j - 1].water + grid[cell.i][cell.j - 1].soil + waterFlowAmount <= cell.water + cell.soil):\n",
    "    grid[cell.i][cell.j - 1].water += waterFlowAmount\n",
    "  else:\n",
    "    grid[cell.i][cell.j - 1].water += (cell.water + cell.soil) - (grid[cell.i][cell.j - 1].water + grid[cell.i][cell.j - 1].soil)\n",
    "    grid[cell.i][cell.j].water += waterFlowAmount - ((cell.water + cell.soil) - (grid[cell.i][cell.j - 1].water + grid[cell.i][cell.j - 1].soil))\n",
    "\n",
    "  #top\n",
    "  if(grid[cell.i - 1][cell.j].water + grid[cell.i - 1][cell.j].soil + waterFlowAmount <= cell.water + cell.soil):\n",
    "    grid[cell.i - 1][cell.j].water += waterFlowAmount\n",
    "  else:\n",
    "    grid[cell.i - 1][cell.j].water += (cell.water + cell.soil) - (grid[cell.i - 1][cell.j].water + grid[cell.i - 1][cell.j].soil)\n",
    "    grid[cell.i][cell.j].water += waterFlowAmount - ((cell.water + cell.soil) - (grid[cell.i - 1][cell.j].water + grid[cell.i - 1][cell.j].soil))\n",
    "\n",
    "  #right\n",
    "  if(grid[cell.i][cell.j + 1].water + grid[cell.i][cell.j + 1].soil + waterFlowAmount <= cell.water + cell.soil):\n",
    "    grid[cell.i][cell.j + 1].water += waterFlowAmount\n",
    "  else:\n",
    "    grid[cell.i][cell.j + 1].water += (cell.water + cell.soil) - (grid[cell.i][cell.j + 1].water + grid[cell.i][cell.j + 1].soil)\n",
    "    grid[cell.i][cell.j].water += waterFlowAmount - ((cell.water + cell.soil) - (grid[cell.i][cell.j + 1].water + grid[cell.i][cell.j + 1].soil))\n",
    "\n",
    "  #bottom\n",
    "  if(grid[cell.i + 1][cell.j].water + grid[cell.i + 1][cell.j].soil + waterFlowAmount <= cell.water + cell.soil):\n",
    "    grid[cell.i + 1][cell.j].water += waterFlowAmount\n",
    "  else:\n",
    "    grid[cell.i + 1][cell.j].water += (cell.water + cell.soil) - (grid[cell.i + 1][cell.j].water + grid[cell.i + 1][cell.j].soil)\n",
    "    grid[cell.i][cell.j].water += waterFlowAmount - ((cell.water + cell.soil) - (grid[cell.i + 1][cell.j].water + grid[cell.i + 1][cell.j].soil))\n"
   ]
  },
  {
   "cell_type": "code",
   "execution_count": 26,
   "metadata": {},
   "outputs": [],
   "source": [
    "def ReduceWaterInfiltration(grid, soilInfiltraionMap, time):\n",
    "    for i in grid:\n",
    "        for j in i:\n",
    "            p = soilInfiltraionMap[j.soilType]['fc']\n",
    "            q = soilInfiltraionMap[j.soilType]['f0']\n",
    "            k = soilInfiltraionMap[j.soilType]['k']\n",
    "            ft = p + ((p - q)*2.78) ** ((-1) * k) * time\n",
    "            \n",
    "            ql = ft * time\n",
    "            \n",
    "            if(j.water - ql >= 0):\n",
    "                j.water = j.water - ql\n",
    "            else:\n",
    "                j.water = 0"
   ]
  },
  {
   "cell_type": "code",
   "execution_count": null,
   "metadata": {},
   "outputs": [],
   "source": [
    "def Driver():\n",
    "    for cell in sortedWaterCell:\n",
    "    averageHeight = GetAverageHeight(cell, grid)\n",
    "  \n",
    "    waterFlowAmount = GetFlowWaterAmount(cell.water + cell.soil, 4)\n",
    "\n",
    "    OverFlowWaterToNeighbour(grid, cell, waterFlowAmount)\n",
    "    \n",
    "    ReduceWaterInfiltration(grid, soilInfiltraionMap, 3)"
   ]
  },
  {
   "cell_type": "code",
   "execution_count": 27,
   "metadata": {
    "colab": {
     "base_uri": "https://localhost:8080/",
     "height": 229
    },
    "colab_type": "code",
    "id": "GUoEW8R3f7oh",
    "outputId": "606e72cd-1e03-4a72-fb67-e2d8be959873"
   },
   "outputs": [],
   "source": [
    "#create grid\n",
    "grid = getSoilLevelPlusWaterLevel(sampleSoil, sampleWater)\n",
    "\n",
    "#get cells which has water\n",
    "waterCells = GetWaterCells(grid)\n",
    "\n",
    "#sort water cells\n",
    "sortedWaterCell = SortWaterCellArray(waterCells)[::-1]\n",
    "\n",
    "#iterate over all water cells\n",
    "for cell in sortedWaterCell:\n",
    "  averageHeight = GetAverageHeight(cell, grid)\n",
    "  \n",
    "  waterFlowAmount = GetFlowWaterAmount(cell.water + cell.soil, 4)\n",
    "\n",
    "  OverFlowWaterToNeighbour(grid, cell, waterFlowAmount)\n",
    "    \n",
    "  ReduceWaterInfiltration(grid, soilInfiltraionMap, 3)\n",
    "  "
   ]
  },
  {
   "cell_type": "code",
   "execution_count": null,
   "metadata": {},
   "outputs": [],
   "source": []
  },
  {
   "cell_type": "code",
   "execution_count": null,
   "metadata": {
    "colab": {},
    "colab_type": "code",
    "id": "heY2Tb9IwJMu"
   },
   "outputs": [],
   "source": [
    "plt.imshow(matrix)\n",
    "plt.show()"
   ]
  }
 ],
 "metadata": {
  "colab": {
   "name": "cellautomata.ipynb",
   "provenance": []
  },
  "kernelspec": {
   "display_name": "Python 3",
   "language": "python",
   "name": "python3"
  },
  "language_info": {
   "codemirror_mode": {
    "name": "ipython",
    "version": 3
   },
   "file_extension": ".py",
   "mimetype": "text/x-python",
   "name": "python",
   "nbconvert_exporter": "python",
   "pygments_lexer": "ipython3",
   "version": "3.6.8"
  }
 },
 "nbformat": 4,
 "nbformat_minor": 1
}
